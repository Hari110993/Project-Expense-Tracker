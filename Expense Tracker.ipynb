{
 "cells": [
  {
   "cell_type": "markdown",
   "id": "d1a20d23-2d93-43c8-86ba-890a06fb1a20",
   "metadata": {},
   "source": [
    "# Libraries and Dictionary"
   ]
  },
  {
   "cell_type": "code",
   "execution_count": 2,
   "id": "91c38272-7260-4435-af4a-45408dc115ca",
   "metadata": {},
   "outputs": [],
   "source": [
    "import csv\n",
    "from datetime import datetime\n",
    "import os\n",
    "from IPython.display import FileLink, display\n",
    "\n",
    "# Dictionary to store expenses, categorized by year and month\n",
    "expenses = {}\n",
    "# Dictionary to store monthly budgets\n",
    "budgets = {}\n",
    "expense_id = 1  # Initial ID for the first expense"
   ]
  },
  {
   "cell_type": "markdown",
   "id": "a8b295a2-7b3f-4fe4-ac2f-d22e3a6c40c9",
   "metadata": {},
   "source": [
    "# Function to Set Budget:"
   ]
  },
  {
   "cell_type": "code",
   "execution_count": 3,
   "id": "a57663f7-2fee-4848-9e44-9b9c0005e6e4",
   "metadata": {},
   "outputs": [],
   "source": [
    "def set_budget():\n",
    "    year = int(input(\"Enter the year (e.g., 2024): \"))\n",
    "    month = int(input(\"Enter the month (1-12): \"))\n",
    "    \n",
    "    while True:\n",
    "        try:\n",
    "            budget = float(input(f\"Enter your budget for {year}-{month}: \"))\n",
    "            if budget < 0:\n",
    "                raise ValueError(\"Budget cannot be negative!\")  # Handle negative budgets\n",
    "            break  # Break the loop once a valid budget is entered\n",
    "        except ValueError as e:\n",
    "            print(f\"Invalid budget! {e} Please enter a valid positive number.\")\n",
    "\n",
    "    # Store the budget for the specified month\n",
    "    budgets[(year, month)] = budget\n",
    "    print(f\"Monthly budget for {year}-{month} set to ${budget:.2f}\\n\")"
   ]
  },
  {
   "cell_type": "markdown",
   "id": "b1888499-bff2-47de-bbbd-fe03652e7ad2",
   "metadata": {},
   "source": [
    "# Function to Add an expense"
   ]
  },
  {
   "cell_type": "code",
   "execution_count": 5,
   "id": "1147745e-5b28-499e-ae10-4d43e8618760",
   "metadata": {},
   "outputs": [],
   "source": [
    "def add_expense():\n",
    "    global expense_id\n",
    "\n",
    "    # Handle the date input with error handling\n",
    "    while True:\n",
    "        try:\n",
    "            date = input(\"Enter the date (YYYY-MM-DD): \")\n",
    "            # Ensure the correct date format\n",
    "            date_obj = datetime.strptime(date, '%Y-%m-%d')\n",
    "            year = date_obj.year\n",
    "            month = date_obj.month\n",
    "            break  # Break the loop once a valid date is entered\n",
    "        except ValueError:\n",
    "            print(\"Invalid date format! Please enter the date in YYYY-MM-DD format.\")\n",
    "\n",
    "    # Check if a budget is set for the month before adding expenses\n",
    "    if (year, month) not in budgets:\n",
    "        print(f\"No budget set for {year}-{month}. Please set a budget first to track expenses.\\n\")\n",
    "        return  # Exit the function if there's no budget\n",
    "\n",
    "    category = input(\"Enter the category (e.g., Food, Travel): \")\n",
    "\n",
    "    # Handle the amount input with error handling\n",
    "    while True:\n",
    "        try:\n",
    "            amount = float(input(\"Enter the amount: \"))\n",
    "            if amount < 0:\n",
    "                raise ValueError(\"Amount cannot be negative!\")  # Handle negative amounts\n",
    "            break  # Break the loop once a valid amount is entered\n",
    "        except ValueError as e:\n",
    "            print(f\"Invalid amount! {e} Please enter a valid positive number.\")\n",
    "\n",
    "    description = input(\"Enter a brief description: \")\n",
    "\n",
    "    # Store the expense in a dictionary with an ID\n",
    "    expense = {\n",
    "        'id': expense_id,\n",
    "        'date': date,\n",
    "        'category': category,\n",
    "        'amount': amount,\n",
    "        'description': description\n",
    "    }\n",
    "\n",
    "    # Store expenses by year and month\n",
    "    if (year, month) not in expenses:\n",
    "        expenses[(year, month)] = []\n",
    "    expenses[(year, month)].append(expense)\n",
    "    print(f\"Expense added successfully with ID: {expense_id}\\n\")\n",
    "\n",
    "    expense_id += 1  # Increment the ID for the next expense\n",
    "\n",
    "    # Check if the new total for the month exceeds the budget\n",
    "    total_spent = sum(exp['amount'] for exp in expenses[(year, month)])\n",
    "    budget = budgets[(year, month)]\n",
    "    if total_spent > budget:\n",
    "        print(f\"Warning: You have exceeded the budget for {year}-{month}!\\n\"\n",
    "              f\"Total spent: ${total_spent:.2f}, Budget: ${budget:.2f}\\n\")\n",
    "    else:\n",
    "        remaining = budget - total_spent\n",
    "        print(f\"Total spent: ${total_spent:.2f}, Remaining budget for {year}-{month}: ${remaining:.2f}\\n\")\n",
    "        \n"
   ]
  },
  {
   "cell_type": "markdown",
   "id": "3362a30d-e371-43df-afa8-7819225e10b1",
   "metadata": {},
   "source": [
    "# Function to View expenses for a specific month"
   ]
  },
  {
   "cell_type": "code",
   "execution_count": 19,
   "id": "bf09e797-5785-4279-b184-440d746b4794",
   "metadata": {},
   "outputs": [],
   "source": [
    "def track_budget():\n",
    "    year = int(input(\"Enter the year (e.g., 2024): \"))\n",
    "    month = int(input(\"Enter the month (1-12): \"))\n",
    "\n",
    "    # Calculate total spent for the given month\n",
    "    total_spent = sum(expense['amount'] for expense in expenses.get((year, month), []))\n",
    "\n",
    "    if (year, month) in budgets:\n",
    "        budget = budgets[(year, month)]\n",
    "        print(f\"Total spent for {year}-{month}: ${total_spent:.2f}\")\n",
    "        if total_spent > budget:\n",
    "            print(\"Warning: You have exceeded your budget!\\n\")\n",
    "        else:\n",
    "            remaining = budget - total_spent\n",
    "            print(f\"You have ${remaining:.2f} left for the month.\\n\")\n",
    "    else:\n",
    "        print(f\"No budget set for {year}-{month}. Please set a budget first.\\n\")"
   ]
  },
  {
   "cell_type": "markdown",
   "id": "95a8edb2-f5ca-4b56-bcb4-6d47ab95c0d0",
   "metadata": {},
   "source": [
    "# Function to Track spending against the budget"
   ]
  },
  {
   "cell_type": "code",
   "execution_count": 7,
   "id": "d6299d47-4199-4094-b8c2-baafd027591b",
   "metadata": {},
   "outputs": [],
   "source": [
    "def view_expenses():\n",
    "    while True:\n",
    "        try:\n",
    "            year = int(input(\"Enter the year (e.g., 2024): \"))\n",
    "            if year < 0:\n",
    "                raise ValueError(\"Year cannot be negative!\")  # Handle negative years\n",
    "            month = int(input(\"Enter the month (1-12): \"))\n",
    "            if month < 1 or month > 12:\n",
    "                raise ValueError(\"Month must be between 1 and 12!\")  # Handle invalid months\n",
    "            break  # Break the loop once valid year and month are entered\n",
    "        except ValueError as e:\n",
    "            print(f\"Invalid input! {e} Please enter valid numbers.\")\n",
    "\n",
    "    # Check if a budget is set for the specified year and month\n",
    "    if (year, month) not in budgets:\n",
    "        print(f\"No budget set for {year}-{month}. Cannot view expenses without a budget.\\n\")\n",
    "        return  # Exit the function if there's no budget\n",
    "\n",
    "    # Check if there are expenses recorded for the specified year and month\n",
    "    if (year, month) not in expenses or not expenses[(year, month)]:\n",
    "        print(f\"No expenses recorded for {year}-{month}.\\n\")\n",
    "        return\n",
    "\n",
    "    print(f\"\\nExpenses for {year}-{month}:\")\n",
    "    for expense in expenses[(year, month)]:\n",
    "        print(f\"ID: {expense['id']}, Date: {expense['date']}, Category: {expense['category']}, \"\n",
    "              f\"Amount: ${expense['amount']:.2f}, Description: {expense['description']}\")\n",
    "    print()"
   ]
  },
  {
   "cell_type": "markdown",
   "id": "cc8ad461-31d4-4aea-84d1-6a8409013ed2",
   "metadata": {},
   "source": [
    "# Function to Save and Load expenses"
   ]
  },
  {
   "cell_type": "code",
   "execution_count": 11,
   "id": "5d6d1e68-9b8f-457b-9486-31381d07b19c",
   "metadata": {},
   "outputs": [],
   "source": [
    "def save_expenses():\n",
    "    # Check if there are any expenses or budgets before saving\n",
    "    if not expenses and not budgets:\n",
    "        print(\"No records found to save. Please add budgets or expenses first.\\n\")\n",
    "        return  # Exit if no records exist\n",
    "\n",
    "    file_path = 'expenses.csv'  # Save the file in the current working directory\n",
    "    with open(file_path, mode='w', newline='') as file:\n",
    "        writer = csv.writer(file)\n",
    "        writer.writerow(['year', 'month', 'id', 'date', 'category', 'amount', 'description', 'budget', 'remaining_budget'])\n",
    "        for (year, month), monthly_expenses in expenses.items():\n",
    "            total_spent = sum(exp['amount'] for exp in monthly_expenses)\n",
    "            budget = budgets.get((year, month), 0)\n",
    "            remaining_budget = budget - total_spent\n",
    "            for expense in monthly_expenses:\n",
    "                writer.writerow([year, month, expense['id'], expense['date'], expense['category'], expense['amount'], expense['description'], budget, remaining_budget])\n",
    "    print(f\"Expenses saved to {file_path}\\n\")\n",
    "    return file_path\n",
    "\n",
    "# Function to download the CSV file\n",
    "def download_csv():\n",
    "    file_path = save_expenses()\n",
    "    if file_path:  # Only create a link if the file was successfully saved\n",
    "        return FileLink(file_path)\n",
    "    return None  # No link if the file wasn't saved\n",
    "\n",
    "# Function to load expenses from a CSV file\n",
    "def load_expenses():\n",
    "    global expense_id\n",
    "    try:\n",
    "        with open('expenses.csv', mode='r') as file:\n",
    "            reader = csv.reader(file)\n",
    "            next(reader)  # Skip the header\n",
    "            for row in reader:\n",
    "                year, month = int(row[0]), int(row[1])\n",
    "                expense = {\n",
    "                    'id': int(row[2]),\n",
    "                    'date': row[3],\n",
    "                    'category': row[4],\n",
    "                    'amount': float(row[5]),\n",
    "                    'description': row[6]\n",
    "                }\n",
    "                if (year, month) not in expenses:\n",
    "                    expenses[(year, month)] = []\n",
    "                expenses[(year, month)].append(expense)\n",
    "                expense_id = max(expense_id, expense['id'] + 1)\n",
    "        print(\"Expenses loaded from file.\\n\")\n",
    "    except FileNotFoundError:\n",
    "        print(\"No saved expenses found.\\n\")"
   ]
  },
  {
   "cell_type": "markdown",
   "id": "0bf12b69-df18-469c-894e-e78c86912917",
   "metadata": {},
   "source": [
    "# Function to Clear History"
   ]
  },
  {
   "cell_type": "code",
   "execution_count": 9,
   "id": "9e35b6d7-2b2b-46a1-8aea-6a10a7c2d062",
   "metadata": {},
   "outputs": [],
   "source": [
    "# Function to clear history\n",
    "def reset_records():\n",
    "    global expenses, budgets, expense_id\n",
    "    expenses.clear()  # Clear the expenses dictionary\n",
    "    budgets.clear()   # Clear the budgets dictionary\n",
    "    expense_id = 1    # Reset the expense ID\n",
    "    print(\"All records cleared.\\n\")\n",
    "    \n"
   ]
  },
  {
   "cell_type": "markdown",
   "id": "f7cd0751-dc9a-4e84-8309-6d78934ebe0b",
   "metadata": {},
   "source": [
    "# Main function to run the program"
   ]
  },
  {
   "cell_type": "code",
   "execution_count": 22,
   "id": "74121452-fb73-474e-aa9c-8a7b8132cac5",
   "metadata": {},
   "outputs": [
    {
     "name": "stdout",
     "output_type": "stream",
     "text": [
      "Expenses loaded from file.\n",
      "\n",
      "1. Set Monthly Budget\n",
      "2. Add Expense\n",
      "3. View Expenses for a Specific Month\n",
      "4. Track Budget for a Specific Month\n",
      "5. Save and Download Expenses\n",
      "6. Clear History\n",
      "7. Exit\n"
     ]
    },
    {
     "name": "stdin",
     "output_type": "stream",
     "text": [
      "Choose an option:  6\n"
     ]
    },
    {
     "name": "stdout",
     "output_type": "stream",
     "text": [
      "All records cleared.\n",
      "\n",
      "1. Set Monthly Budget\n",
      "2. Add Expense\n",
      "3. View Expenses for a Specific Month\n",
      "4. Track Budget for a Specific Month\n",
      "5. Save and Download Expenses\n",
      "6. Clear History\n",
      "7. Exit\n"
     ]
    },
    {
     "name": "stdin",
     "output_type": "stream",
     "text": [
      "Choose an option:  2\n",
      "Enter the date (YYYY-MM-DD):  2012465265\n"
     ]
    },
    {
     "name": "stdout",
     "output_type": "stream",
     "text": [
      "Invalid date format! Please enter the date in YYYY-MM-DD format.\n"
     ]
    },
    {
     "name": "stdin",
     "output_type": "stream",
     "text": [
      "Enter the date (YYYY-MM-DD):  2024-09-11\n"
     ]
    },
    {
     "name": "stdout",
     "output_type": "stream",
     "text": [
      "No budget set for 2024-9. Please set a budget first to track expenses.\n",
      "\n",
      "1. Set Monthly Budget\n",
      "2. Add Expense\n",
      "3. View Expenses for a Specific Month\n",
      "4. Track Budget for a Specific Month\n",
      "5. Save and Download Expenses\n",
      "6. Clear History\n",
      "7. Exit\n"
     ]
    },
    {
     "name": "stdin",
     "output_type": "stream",
     "text": [
      "Choose an option:  1\n",
      "Enter the year (e.g., 2024):  2024\n",
      "Enter the month (1-12):  09\n",
      "Enter your budget for 2024-9:  20000.00\n"
     ]
    },
    {
     "name": "stdout",
     "output_type": "stream",
     "text": [
      "Monthly budget for 2024-9 set to $20000.00\n",
      "\n",
      "1. Set Monthly Budget\n",
      "2. Add Expense\n",
      "3. View Expenses for a Specific Month\n",
      "4. Track Budget for a Specific Month\n",
      "5. Save and Download Expenses\n",
      "6. Clear History\n",
      "7. Exit\n"
     ]
    },
    {
     "name": "stdin",
     "output_type": "stream",
     "text": [
      "Choose an option:  2\n",
      "Enter the date (YYYY-MM-DD):  2024-09-11\n",
      "Enter the category (e.g., Food, Travel):  Food\n",
      "Enter the amount:  14000\n",
      "Enter a brief description:  Bday party\n"
     ]
    },
    {
     "name": "stdout",
     "output_type": "stream",
     "text": [
      "Expense added successfully with ID: 1\n",
      "\n",
      "Total spent: $14000.00, Remaining budget for 2024-9: $6000.00\n",
      "\n",
      "1. Set Monthly Budget\n",
      "2. Add Expense\n",
      "3. View Expenses for a Specific Month\n",
      "4. Track Budget for a Specific Month\n",
      "5. Save and Download Expenses\n",
      "6. Clear History\n",
      "7. Exit\n"
     ]
    },
    {
     "name": "stdin",
     "output_type": "stream",
     "text": [
      "Choose an option:  2\n",
      "Enter the date (YYYY-MM-DD):  2024-09-14\n",
      "Enter the category (e.g., Food, Travel):  Travel\n",
      "Enter the amount:  4800.58\n",
      "Enter a brief description:  Tour travel\n"
     ]
    },
    {
     "name": "stdout",
     "output_type": "stream",
     "text": [
      "Expense added successfully with ID: 2\n",
      "\n",
      "Total spent: $18800.58, Remaining budget for 2024-9: $1199.42\n",
      "\n",
      "1. Set Monthly Budget\n",
      "2. Add Expense\n",
      "3. View Expenses for a Specific Month\n",
      "4. Track Budget for a Specific Month\n",
      "5. Save and Download Expenses\n",
      "6. Clear History\n",
      "7. Exit\n"
     ]
    },
    {
     "name": "stdin",
     "output_type": "stream",
     "text": [
      "Choose an option:  3\n",
      "Enter the year (e.g., 2024):  2024\n",
      "Enter the month (1-12):  09\n"
     ]
    },
    {
     "name": "stdout",
     "output_type": "stream",
     "text": [
      "\n",
      "Expenses for 2024-9:\n",
      "ID: 1, Date: 2024-09-11, Category: Food, Amount: $14000.00, Description: Bday party\n",
      "ID: 2, Date: 2024-09-14, Category: Travel, Amount: $4800.58, Description: Tour travel\n",
      "\n",
      "1. Set Monthly Budget\n",
      "2. Add Expense\n",
      "3. View Expenses for a Specific Month\n",
      "4. Track Budget for a Specific Month\n",
      "5. Save and Download Expenses\n",
      "6. Clear History\n",
      "7. Exit\n"
     ]
    },
    {
     "name": "stdin",
     "output_type": "stream",
     "text": [
      "Choose an option:  4\n",
      "Enter the year (e.g., 2024):  2024\n",
      "Enter the month (1-12):  08\n"
     ]
    },
    {
     "name": "stdout",
     "output_type": "stream",
     "text": [
      "No budget set for 2024-8. Please set a budget first.\n",
      "\n",
      "1. Set Monthly Budget\n",
      "2. Add Expense\n",
      "3. View Expenses for a Specific Month\n",
      "4. Track Budget for a Specific Month\n",
      "5. Save and Download Expenses\n",
      "6. Clear History\n",
      "7. Exit\n"
     ]
    },
    {
     "name": "stdin",
     "output_type": "stream",
     "text": [
      "Choose an option:  4\n",
      "Enter the year (e.g., 2024):  2024\n",
      "Enter the month (1-12):  09\n"
     ]
    },
    {
     "name": "stdout",
     "output_type": "stream",
     "text": [
      "Total spent for 2024-9: $18800.58\n",
      "You have $1199.42 left for the month.\n",
      "\n",
      "1. Set Monthly Budget\n",
      "2. Add Expense\n",
      "3. View Expenses for a Specific Month\n",
      "4. Track Budget for a Specific Month\n",
      "5. Save and Download Expenses\n",
      "6. Clear History\n",
      "7. Exit\n"
     ]
    },
    {
     "name": "stdin",
     "output_type": "stream",
     "text": [
      "Choose an option:  2\n",
      "Enter the date (YYYY-MM-DD):  2024\n"
     ]
    },
    {
     "name": "stdout",
     "output_type": "stream",
     "text": [
      "Invalid date format! Please enter the date in YYYY-MM-DD format.\n"
     ]
    },
    {
     "name": "stdin",
     "output_type": "stream",
     "text": [
      "Enter the date (YYYY-MM-DD):  2024-09-18\n",
      "Enter the category (e.g., Food, Travel):  Food\n",
      "Enter the amount:  5000\n",
      "Enter a brief description:  Party\n"
     ]
    },
    {
     "name": "stdout",
     "output_type": "stream",
     "text": [
      "Expense added successfully with ID: 3\n",
      "\n",
      "Warning: You have exceeded the budget for 2024-9!\n",
      "Total spent: $23800.58, Budget: $20000.00\n",
      "\n",
      "1. Set Monthly Budget\n",
      "2. Add Expense\n",
      "3. View Expenses for a Specific Month\n",
      "4. Track Budget for a Specific Month\n",
      "5. Save and Download Expenses\n",
      "6. Clear History\n",
      "7. Exit\n"
     ]
    },
    {
     "name": "stdin",
     "output_type": "stream",
     "text": [
      "Choose an option:  4\n",
      "Enter the year (e.g., 2024):  2024\n",
      "Enter the month (1-12):  09\n"
     ]
    },
    {
     "name": "stdout",
     "output_type": "stream",
     "text": [
      "Total spent for 2024-9: $23800.58\n",
      "Warning: You have exceeded your budget!\n",
      "\n",
      "1. Set Monthly Budget\n",
      "2. Add Expense\n",
      "3. View Expenses for a Specific Month\n",
      "4. Track Budget for a Specific Month\n",
      "5. Save and Download Expenses\n",
      "6. Clear History\n",
      "7. Exit\n"
     ]
    },
    {
     "name": "stdin",
     "output_type": "stream",
     "text": [
      "Choose an option:  5\n"
     ]
    },
    {
     "name": "stdout",
     "output_type": "stream",
     "text": [
      "Expenses saved to expenses.csv\n",
      "\n",
      "Click the link below to download the CSV file:\n"
     ]
    },
    {
     "data": {
      "text/html": [
       "<a href='expenses.csv' target='_blank'>expenses.csv</a><br>"
      ],
      "text/plain": [
       "/voc/work/expenses.csv"
      ]
     },
     "metadata": {},
     "output_type": "display_data"
    },
    {
     "name": "stdout",
     "output_type": "stream",
     "text": [
      "1. Set Monthly Budget\n",
      "2. Add Expense\n",
      "3. View Expenses for a Specific Month\n",
      "4. Track Budget for a Specific Month\n",
      "5. Save and Download Expenses\n",
      "6. Clear History\n",
      "7. Exit\n"
     ]
    },
    {
     "name": "stdin",
     "output_type": "stream",
     "text": [
      "Choose an option:  7\n"
     ]
    },
    {
     "name": "stdout",
     "output_type": "stream",
     "text": [
      "Expenses saved to expenses.csv\n",
      "\n",
      "Exiting the program. Goodbye!\n"
     ]
    }
   ],
   "source": [
    "# Function to display the interactive menu\n",
    "def display_menu():\n",
    "    print(\"1. Set Monthly Budget\")\n",
    "    print(\"2. Add Expense\")\n",
    "    print(\"3. View Expenses for a Specific Month\")\n",
    "    print(\"4. Track Budget for a Specific Month\")\n",
    "    print(\"5. Save and Download Expenses\")\n",
    "    print(\"6. Clear History\")\n",
    "    print(\"7. Exit\")\n",
    "\n",
    "# Main function to run the program\n",
    "def main():\n",
    "    load_expenses()  # Load expenses when program starts\n",
    "    while True:\n",
    "        display_menu()\n",
    "        choice = input(\"Choose an option: \")\n",
    "\n",
    "        if choice == '1':\n",
    "            set_budget()\n",
    "        elif choice == '2':\n",
    "            add_expense()\n",
    "        elif choice == '3':\n",
    "            view_expenses()\n",
    "        elif choice == '4':\n",
    "            track_budget()\n",
    "        elif choice == '5':\n",
    "            download_link = download_csv()\n",
    "            if download_link:  # Check if the download link is valid\n",
    "                print(\"Click the link below to download the CSV file:\")\n",
    "                display(download_link)\n",
    "            else:\n",
    "                print(\"No records found to download.\\n\")\n",
    "        elif choice == '6':\n",
    "            reset_records()  # Clear all records\n",
    "        elif choice == '7':\n",
    "            save_expenses()  # Save expenses before exiting\n",
    "            print(\"Exiting the program. Goodbye!\")\n",
    "            break\n",
    "        else:\n",
    "            print(\"Invalid option. Please try again.\\n\")\n",
    "\n",
    "# Run the main program\n",
    "if __name__ == \"__main__\":\n",
    "    main()"
   ]
  }
 ],
 "metadata": {
  "kernelspec": {
   "display_name": "Python 3 [3.10]",
   "language": "python",
   "name": "python3"
  },
  "language_info": {
   "codemirror_mode": {
    "name": "ipython",
    "version": 3
   },
   "file_extension": ".py",
   "mimetype": "text/x-python",
   "name": "python",
   "nbconvert_exporter": "python",
   "pygments_lexer": "ipython3",
   "version": "3.10.2"
  }
 },
 "nbformat": 4,
 "nbformat_minor": 5
}
